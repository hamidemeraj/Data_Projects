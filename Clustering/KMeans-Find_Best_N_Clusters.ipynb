{
 "cells": [
  {
   "cell_type": "markdown",
   "id": "e7533881",
   "metadata": {},
   "source": [
    "## Reading Dataset and Preparing it."
   ]
  },
  {
   "cell_type": "code",
   "execution_count": 36,
   "id": "687a4a5b",
   "metadata": {},
   "outputs": [],
   "source": [
    "#Import Libraries\n",
    "import pandas as pd \n",
    "import numpy as np \n",
    "import seaborn as sns \n",
    "import matplotlib.pyplot as plt \n",
    "import datetime\n",
    "import warnings \n",
    "import jalali_pandas\n",
    "from datetime import timedelta\n",
    "from sklearn.cluster import KMeans\n",
    "from sklearn.preprocessing import StandardScaler,MinMaxScaler\n",
    "warnings.filterwarnings('ignore')"
   ]
  },
  {
   "cell_type": "code",
   "execution_count": 37,
   "id": "df905a5e",
   "metadata": {},
   "outputs": [
    {
     "data": {
      "text/html": [
       "<div>\n",
       "<style scoped>\n",
       "    .dataframe tbody tr th:only-of-type {\n",
       "        vertical-align: middle;\n",
       "    }\n",
       "\n",
       "    .dataframe tbody tr th {\n",
       "        vertical-align: top;\n",
       "    }\n",
       "\n",
       "    .dataframe thead th {\n",
       "        text-align: right;\n",
       "    }\n",
       "</style>\n",
       "<table border=\"1\" class=\"dataframe\">\n",
       "  <thead>\n",
       "    <tr style=\"text-align: right;\">\n",
       "      <th></th>\n",
       "      <th>CustomerID</th>\n",
       "      <th>OrderID</th>\n",
       "      <th>Date</th>\n",
       "      <th>Revenue</th>\n",
       "    </tr>\n",
       "  </thead>\n",
       "  <tbody>\n",
       "    <tr>\n",
       "      <th>258865</th>\n",
       "      <td>3344279</td>\n",
       "      <td>58104466</td>\n",
       "      <td>20200413</td>\n",
       "      <td>3160</td>\n",
       "    </tr>\n",
       "    <tr>\n",
       "      <th>226871</th>\n",
       "      <td>15476347</td>\n",
       "      <td>52646422</td>\n",
       "      <td>20200215</td>\n",
       "      <td>276</td>\n",
       "    </tr>\n",
       "    <tr>\n",
       "      <th>89340</th>\n",
       "      <td>13564681</td>\n",
       "      <td>42205442</td>\n",
       "      <td>20190928</td>\n",
       "      <td>4220</td>\n",
       "    </tr>\n",
       "    <tr>\n",
       "      <th>21484</th>\n",
       "      <td>6882788</td>\n",
       "      <td>36788434</td>\n",
       "      <td>20190622</td>\n",
       "      <td>1560</td>\n",
       "    </tr>\n",
       "  </tbody>\n",
       "</table>\n",
       "</div>"
      ],
      "text/plain": [
       "        CustomerID   OrderID      Date  Revenue\n",
       "258865     3344279  58104466  20200413     3160\n",
       "226871    15476347  52646422  20200215      276\n",
       "89340     13564681  42205442  20190928     4220\n",
       "21484      6882788  36788434  20190622     1560"
      ]
     },
     "execution_count": 37,
     "metadata": {},
     "output_type": "execute_result"
    }
   ],
   "source": [
    "df = pd.read_csv(r\"C:\\Users\\snapp\\Desktop\\AI\\Digikala\\Dataset.csv\",index_col='Unnamed: 0')\n",
    "df.sample(4)"
   ]
  },
  {
   "cell_type": "code",
   "execution_count": 38,
   "id": "69fd64ec",
   "metadata": {
    "scrolled": true
   },
   "outputs": [
    {
     "name": "stdout",
     "output_type": "stream",
     "text": [
      "<class 'pandas.core.frame.DataFrame'>\n",
      "Int64Index: 261960 entries, 0 to 261959\n",
      "Data columns (total 4 columns):\n",
      " #   Column      Non-Null Count   Dtype\n",
      "---  ------      --------------   -----\n",
      " 0   CustomerID  261960 non-null  int64\n",
      " 1   OrderID     261960 non-null  int64\n",
      " 2   Date        261960 non-null  int64\n",
      " 3   Revenue     261960 non-null  int64\n",
      "dtypes: int64(4)\n",
      "memory usage: 10.0 MB\n"
     ]
    }
   ],
   "source": [
    "df.info()"
   ]
  },
  {
   "cell_type": "code",
   "execution_count": 39,
   "id": "02fd0a0b",
   "metadata": {},
   "outputs": [
    {
     "data": {
      "text/html": [
       "<div>\n",
       "<style scoped>\n",
       "    .dataframe tbody tr th:only-of-type {\n",
       "        vertical-align: middle;\n",
       "    }\n",
       "\n",
       "    .dataframe tbody tr th {\n",
       "        vertical-align: top;\n",
       "    }\n",
       "\n",
       "    .dataframe thead th {\n",
       "        text-align: right;\n",
       "    }\n",
       "</style>\n",
       "<table border=\"1\" class=\"dataframe\">\n",
       "  <thead>\n",
       "    <tr style=\"text-align: right;\">\n",
       "      <th></th>\n",
       "      <th>CustomerID</th>\n",
       "      <th>OrderID</th>\n",
       "      <th>Date</th>\n",
       "      <th>Revenue</th>\n",
       "    </tr>\n",
       "  </thead>\n",
       "  <tbody>\n",
       "    <tr>\n",
       "      <th>count</th>\n",
       "      <td>2.619600e+05</td>\n",
       "      <td>2.619600e+05</td>\n",
       "      <td>2.619600e+05</td>\n",
       "      <td>261960.000000</td>\n",
       "    </tr>\n",
       "    <tr>\n",
       "      <th>mean</th>\n",
       "      <td>7.169337e+06</td>\n",
       "      <td>4.526490e+07</td>\n",
       "      <td>2.019366e+07</td>\n",
       "      <td>6109.570595</td>\n",
       "    </tr>\n",
       "    <tr>\n",
       "      <th>std</th>\n",
       "      <td>4.957141e+06</td>\n",
       "      <td>6.121027e+06</td>\n",
       "      <td>4.237757e+03</td>\n",
       "      <td>5646.762773</td>\n",
       "    </tr>\n",
       "    <tr>\n",
       "      <th>min</th>\n",
       "      <td>4.651320e+05</td>\n",
       "      <td>3.293076e+07</td>\n",
       "      <td>2.019032e+07</td>\n",
       "      <td>106.000000</td>\n",
       "    </tr>\n",
       "    <tr>\n",
       "      <th>25%</th>\n",
       "      <td>3.267469e+06</td>\n",
       "      <td>4.006175e+07</td>\n",
       "      <td>2.019082e+07</td>\n",
       "      <td>2451.000000</td>\n",
       "    </tr>\n",
       "    <tr>\n",
       "      <th>50%</th>\n",
       "      <td>6.663396e+06</td>\n",
       "      <td>4.479244e+07</td>\n",
       "      <td>2.019111e+07</td>\n",
       "      <td>5100.000000</td>\n",
       "    </tr>\n",
       "    <tr>\n",
       "      <th>75%</th>\n",
       "      <td>1.122706e+07</td>\n",
       "      <td>5.004593e+07</td>\n",
       "      <td>2.020012e+07</td>\n",
       "      <td>7960.000000</td>\n",
       "    </tr>\n",
       "    <tr>\n",
       "      <th>max</th>\n",
       "      <td>4.654955e+07</td>\n",
       "      <td>5.885319e+07</td>\n",
       "      <td>2.020042e+07</td>\n",
       "      <td>175200.000000</td>\n",
       "    </tr>\n",
       "  </tbody>\n",
       "</table>\n",
       "</div>"
      ],
      "text/plain": [
       "         CustomerID       OrderID          Date        Revenue\n",
       "count  2.619600e+05  2.619600e+05  2.619600e+05  261960.000000\n",
       "mean   7.169337e+06  4.526490e+07  2.019366e+07    6109.570595\n",
       "std    4.957141e+06  6.121027e+06  4.237757e+03    5646.762773\n",
       "min    4.651320e+05  3.293076e+07  2.019032e+07     106.000000\n",
       "25%    3.267469e+06  4.006175e+07  2.019082e+07    2451.000000\n",
       "50%    6.663396e+06  4.479244e+07  2.019111e+07    5100.000000\n",
       "75%    1.122706e+07  5.004593e+07  2.020012e+07    7960.000000\n",
       "max    4.654955e+07  5.885319e+07  2.020042e+07  175200.000000"
      ]
     },
     "execution_count": 39,
     "metadata": {},
     "output_type": "execute_result"
    }
   ],
   "source": [
    "df.describe()"
   ]
  },
  {
   "cell_type": "code",
   "execution_count": 40,
   "id": "0d7e546d",
   "metadata": {},
   "outputs": [],
   "source": [
    "# convert Date field to jalali_date\n",
    "df['Date'] = pd.to_datetime(df['Date'], format='%Y%m%d')\n",
    "df['jdate'] = df['Date'].jalali.to_jalali()\n",
    "df['year'] = df['jdate'].jalali.year\n",
    "df['month'] = df['jdate'].jalali.month\n",
    "df['day'] = df['jdate'].jalali.day"
   ]
  },
  {
   "cell_type": "code",
   "execution_count": 41,
   "id": "3d634940",
   "metadata": {},
   "outputs": [
    {
     "data": {
      "text/plain": [
       "0"
      ]
     },
     "execution_count": 41,
     "metadata": {},
     "output_type": "execute_result"
    }
   ],
   "source": [
    "#Check Duplicate Values in Data\n",
    "df.duplicated().sum()"
   ]
  },
  {
   "cell_type": "markdown",
   "id": "e7a78449",
   "metadata": {},
   "source": [
    "## Question 1: N of customers, orders, AVG Order Value, AVG Frequency, Total revenue "
   ]
  },
  {
   "cell_type": "code",
   "execution_count": 42,
   "id": "e311d25f",
   "metadata": {},
   "outputs": [],
   "source": [
    "# Preparing Data\n",
    "gr = df[df['year']==1398].groupby('month').agg({'CustomerID':'nunique',\n",
    "                                           'OrderID':'count',\n",
    "                                           'Revenue':['mean','sum'],\n",
    "                                          }).round(2)\n",
    "gr.columns = gr.columns.get_level_values(1)\n",
    "gr.reset_index(inplace = True)\n",
    "gr.rename(columns = {'nunique':'unique_customer',\n",
    "                     'count':'count_order',\n",
    "                     'mean':'avg_order_value',\n",
    "                     'sum':'revenue'},inplace = True )\n",
    "gr['avg_Frequency']=round(gr['count_order']/gr['unique_customer'],2)"
   ]
  },
  {
   "cell_type": "code",
   "execution_count": 43,
   "id": "de7833a8",
   "metadata": {},
   "outputs": [
    {
     "data": {
      "text/html": [
       "<div>\n",
       "<style scoped>\n",
       "    .dataframe tbody tr th:only-of-type {\n",
       "        vertical-align: middle;\n",
       "    }\n",
       "\n",
       "    .dataframe tbody tr th {\n",
       "        vertical-align: top;\n",
       "    }\n",
       "\n",
       "    .dataframe thead th {\n",
       "        text-align: right;\n",
       "    }\n",
       "</style>\n",
       "<table border=\"1\" class=\"dataframe\">\n",
       "  <thead>\n",
       "    <tr style=\"text-align: right;\">\n",
       "      <th></th>\n",
       "      <th>month</th>\n",
       "      <th>unique_customer</th>\n",
       "      <th>count_order</th>\n",
       "      <th>avg_order_value</th>\n",
       "      <th>revenue</th>\n",
       "      <th>avg_Frequency</th>\n",
       "    </tr>\n",
       "  </thead>\n",
       "  <tbody>\n",
       "    <tr>\n",
       "      <th>0</th>\n",
       "      <td>1</td>\n",
       "      <td>2789</td>\n",
       "      <td>3279</td>\n",
       "      <td>5983.07</td>\n",
       "      <td>19618499</td>\n",
       "      <td>1.18</td>\n",
       "    </tr>\n",
       "    <tr>\n",
       "      <th>1</th>\n",
       "      <td>2</td>\n",
       "      <td>3064</td>\n",
       "      <td>3503</td>\n",
       "      <td>6811.41</td>\n",
       "      <td>23860379</td>\n",
       "      <td>1.14</td>\n",
       "    </tr>\n",
       "    <tr>\n",
       "      <th>2</th>\n",
       "      <td>3</td>\n",
       "      <td>12768</td>\n",
       "      <td>14380</td>\n",
       "      <td>6353.51</td>\n",
       "      <td>91363493</td>\n",
       "      <td>1.13</td>\n",
       "    </tr>\n",
       "    <tr>\n",
       "      <th>3</th>\n",
       "      <td>4</td>\n",
       "      <td>14122</td>\n",
       "      <td>16228</td>\n",
       "      <td>6615.14</td>\n",
       "      <td>107350424</td>\n",
       "      <td>1.15</td>\n",
       "    </tr>\n",
       "    <tr>\n",
       "      <th>4</th>\n",
       "      <td>5</td>\n",
       "      <td>24708</td>\n",
       "      <td>28663</td>\n",
       "      <td>5111.21</td>\n",
       "      <td>146502637</td>\n",
       "      <td>1.16</td>\n",
       "    </tr>\n",
       "    <tr>\n",
       "      <th>5</th>\n",
       "      <td>6</td>\n",
       "      <td>16603</td>\n",
       "      <td>18630</td>\n",
       "      <td>5602.55</td>\n",
       "      <td>104375481</td>\n",
       "      <td>1.12</td>\n",
       "    </tr>\n",
       "    <tr>\n",
       "      <th>6</th>\n",
       "      <td>7</td>\n",
       "      <td>22541</td>\n",
       "      <td>26699</td>\n",
       "      <td>5641.54</td>\n",
       "      <td>150623504</td>\n",
       "      <td>1.18</td>\n",
       "    </tr>\n",
       "    <tr>\n",
       "      <th>7</th>\n",
       "      <td>8</td>\n",
       "      <td>28594</td>\n",
       "      <td>33233</td>\n",
       "      <td>5506.90</td>\n",
       "      <td>183010916</td>\n",
       "      <td>1.16</td>\n",
       "    </tr>\n",
       "    <tr>\n",
       "      <th>8</th>\n",
       "      <td>9</td>\n",
       "      <td>27344</td>\n",
       "      <td>30989</td>\n",
       "      <td>5821.10</td>\n",
       "      <td>180390183</td>\n",
       "      <td>1.13</td>\n",
       "    </tr>\n",
       "    <tr>\n",
       "      <th>9</th>\n",
       "      <td>10</td>\n",
       "      <td>23048</td>\n",
       "      <td>26642</td>\n",
       "      <td>6658.94</td>\n",
       "      <td>177407408</td>\n",
       "      <td>1.16</td>\n",
       "    </tr>\n",
       "    <tr>\n",
       "      <th>10</th>\n",
       "      <td>11</td>\n",
       "      <td>23819</td>\n",
       "      <td>27839</td>\n",
       "      <td>5876.29</td>\n",
       "      <td>163590162</td>\n",
       "      <td>1.17</td>\n",
       "    </tr>\n",
       "    <tr>\n",
       "      <th>11</th>\n",
       "      <td>12</td>\n",
       "      <td>15839</td>\n",
       "      <td>18227</td>\n",
       "      <td>7764.35</td>\n",
       "      <td>141520734</td>\n",
       "      <td>1.15</td>\n",
       "    </tr>\n",
       "  </tbody>\n",
       "</table>\n",
       "</div>"
      ],
      "text/plain": [
       "    month  unique_customer  count_order  avg_order_value    revenue  \\\n",
       "0       1             2789         3279          5983.07   19618499   \n",
       "1       2             3064         3503          6811.41   23860379   \n",
       "2       3            12768        14380          6353.51   91363493   \n",
       "3       4            14122        16228          6615.14  107350424   \n",
       "4       5            24708        28663          5111.21  146502637   \n",
       "5       6            16603        18630          5602.55  104375481   \n",
       "6       7            22541        26699          5641.54  150623504   \n",
       "7       8            28594        33233          5506.90  183010916   \n",
       "8       9            27344        30989          5821.10  180390183   \n",
       "9      10            23048        26642          6658.94  177407408   \n",
       "10     11            23819        27839          5876.29  163590162   \n",
       "11     12            15839        18227          7764.35  141520734   \n",
       "\n",
       "    avg_Frequency  \n",
       "0            1.18  \n",
       "1            1.14  \n",
       "2            1.13  \n",
       "3            1.15  \n",
       "4            1.16  \n",
       "5            1.12  \n",
       "6            1.18  \n",
       "7            1.16  \n",
       "8            1.13  \n",
       "9            1.16  \n",
       "10           1.17  \n",
       "11           1.15  "
      ]
     },
     "execution_count": 43,
     "metadata": {},
     "output_type": "execute_result"
    }
   ],
   "source": [
    "gr"
   ]
  },
  {
   "cell_type": "markdown",
   "id": "54d37a94",
   "metadata": {},
   "source": [
    "## Question 2: Month with Highest Order and Revenue"
   ]
  },
  {
   "cell_type": "code",
   "execution_count": 44,
   "id": "562425c7",
   "metadata": {},
   "outputs": [
    {
     "data": {
      "text/plain": [
       "8"
      ]
     },
     "execution_count": 44,
     "metadata": {},
     "output_type": "execute_result"
    }
   ],
   "source": [
    "max_revenue = gr.sort_values(['revenue'], ascending=[False])\n",
    "max_revenue.iloc[0,0]"
   ]
  },
  {
   "cell_type": "code",
   "execution_count": 45,
   "id": "962e20ec",
   "metadata": {},
   "outputs": [
    {
     "data": {
      "text/plain": [
       "8"
      ]
     },
     "execution_count": 45,
     "metadata": {},
     "output_type": "execute_result"
    }
   ],
   "source": [
    "max_order = gr.sort_values(['count_order'], ascending=[False])\n",
    "max_order.iloc[0,0]"
   ]
  },
  {
   "cell_type": "markdown",
   "id": "3c2a0183",
   "metadata": {},
   "source": [
    "## Question 3: RFM Segmentation with KMEANS"
   ]
  },
  {
   "cell_type": "code",
   "execution_count": 46,
   "id": "56d583c4",
   "metadata": {},
   "outputs": [],
   "source": [
    "max_date=df.sort_values(['Date'],ascending=False).iloc[0,2]\n",
    "min_date = max_date - timedelta(days=180)"
   ]
  },
  {
   "cell_type": "code",
   "execution_count": 47,
   "id": "acfad2bc",
   "metadata": {
    "scrolled": true
   },
   "outputs": [
    {
     "data": {
      "text/html": [
       "<div>\n",
       "<style scoped>\n",
       "    .dataframe tbody tr th:only-of-type {\n",
       "        vertical-align: middle;\n",
       "    }\n",
       "\n",
       "    .dataframe tbody tr th {\n",
       "        vertical-align: top;\n",
       "    }\n",
       "\n",
       "    .dataframe thead th {\n",
       "        text-align: right;\n",
       "    }\n",
       "</style>\n",
       "<table border=\"1\" class=\"dataframe\">\n",
       "  <thead>\n",
       "    <tr style=\"text-align: right;\">\n",
       "      <th></th>\n",
       "      <th>CustomerID</th>\n",
       "      <th>OrderID</th>\n",
       "      <th>Date</th>\n",
       "      <th>Revenue</th>\n",
       "      <th>jdate</th>\n",
       "      <th>year</th>\n",
       "      <th>month</th>\n",
       "      <th>day</th>\n",
       "    </tr>\n",
       "  </thead>\n",
       "  <tbody>\n",
       "    <tr>\n",
       "      <th>110985</th>\n",
       "      <td>9712668</td>\n",
       "      <td>43649549</td>\n",
       "      <td>2019-10-22</td>\n",
       "      <td>3120</td>\n",
       "      <td>1398-07-30 00:00:00</td>\n",
       "      <td>1398</td>\n",
       "      <td>7</td>\n",
       "      <td>30</td>\n",
       "    </tr>\n",
       "    <tr>\n",
       "      <th>110986</th>\n",
       "      <td>7419968</td>\n",
       "      <td>43646459</td>\n",
       "      <td>2019-10-22</td>\n",
       "      <td>4400</td>\n",
       "      <td>1398-07-30 00:00:00</td>\n",
       "      <td>1398</td>\n",
       "      <td>7</td>\n",
       "      <td>30</td>\n",
       "    </tr>\n",
       "    <tr>\n",
       "      <th>110987</th>\n",
       "      <td>13911230</td>\n",
       "      <td>43691117</td>\n",
       "      <td>2019-10-22</td>\n",
       "      <td>4400</td>\n",
       "      <td>1398-07-30 00:00:00</td>\n",
       "      <td>1398</td>\n",
       "      <td>7</td>\n",
       "      <td>30</td>\n",
       "    </tr>\n",
       "    <tr>\n",
       "      <th>110988</th>\n",
       "      <td>1415487</td>\n",
       "      <td>43708002</td>\n",
       "      <td>2019-10-22</td>\n",
       "      <td>4400</td>\n",
       "      <td>1398-07-30 00:00:00</td>\n",
       "      <td>1398</td>\n",
       "      <td>7</td>\n",
       "      <td>30</td>\n",
       "    </tr>\n",
       "    <tr>\n",
       "      <th>110989</th>\n",
       "      <td>5801238</td>\n",
       "      <td>43669111</td>\n",
       "      <td>2019-10-22</td>\n",
       "      <td>1560</td>\n",
       "      <td>1398-07-30 00:00:00</td>\n",
       "      <td>1398</td>\n",
       "      <td>7</td>\n",
       "      <td>30</td>\n",
       "    </tr>\n",
       "  </tbody>\n",
       "</table>\n",
       "</div>"
      ],
      "text/plain": [
       "        CustomerID   OrderID       Date  Revenue                jdate  year  \\\n",
       "110985     9712668  43649549 2019-10-22     3120  1398-07-30 00:00:00  1398   \n",
       "110986     7419968  43646459 2019-10-22     4400  1398-07-30 00:00:00  1398   \n",
       "110987    13911230  43691117 2019-10-22     4400  1398-07-30 00:00:00  1398   \n",
       "110988     1415487  43708002 2019-10-22     4400  1398-07-30 00:00:00  1398   \n",
       "110989     5801238  43669111 2019-10-22     1560  1398-07-30 00:00:00  1398   \n",
       "\n",
       "        month  day  \n",
       "110985      7   30  \n",
       "110986      7   30  \n",
       "110987      7   30  \n",
       "110988      7   30  \n",
       "110989      7   30  "
      ]
     },
     "execution_count": 47,
     "metadata": {},
     "output_type": "execute_result"
    }
   ],
   "source": [
    "Data = df[(df['Date']<=max_date) & (df['Date']>=min_date)]\n",
    "Data.head()"
   ]
  },
  {
   "cell_type": "code",
   "execution_count": 48,
   "id": "f9e665e5",
   "metadata": {
    "scrolled": true
   },
   "outputs": [],
   "source": [
    "#Prepare Data For RFM Segmentaion\n",
    "Data= Data.groupby('CustomerID').agg({'OrderID':'count','Revenue':'sum','Date':'max'}).reset_index()"
   ]
  },
  {
   "cell_type": "code",
   "execution_count": 49,
   "id": "2caa945f",
   "metadata": {},
   "outputs": [],
   "source": [
    "#Create a column for Recency\n",
    "Data['Recency']=(max_date-Data['Date']).dt.days\n",
    "Data.rename(columns = {'OrderID':'Frequency','Revenue':'Monetory','Recency':'Recency'},inplace = True)"
   ]
  },
  {
   "cell_type": "code",
   "execution_count": 50,
   "id": "4f9cf0ab",
   "metadata": {},
   "outputs": [],
   "source": [
    "#Drop Extra Column\n",
    "Data.drop(['Date'],axis =1,inplace=True)"
   ]
  },
  {
   "cell_type": "code",
   "execution_count": 51,
   "id": "172b1d27",
   "metadata": {},
   "outputs": [
    {
     "data": {
      "text/html": [
       "<div>\n",
       "<style scoped>\n",
       "    .dataframe tbody tr th:only-of-type {\n",
       "        vertical-align: middle;\n",
       "    }\n",
       "\n",
       "    .dataframe tbody tr th {\n",
       "        vertical-align: top;\n",
       "    }\n",
       "\n",
       "    .dataframe thead th {\n",
       "        text-align: right;\n",
       "    }\n",
       "</style>\n",
       "<table border=\"1\" class=\"dataframe\">\n",
       "  <thead>\n",
       "    <tr style=\"text-align: right;\">\n",
       "      <th></th>\n",
       "      <th>CustomerID</th>\n",
       "      <th>Frequency</th>\n",
       "      <th>Monetory</th>\n",
       "      <th>Recency</th>\n",
       "    </tr>\n",
       "  </thead>\n",
       "  <tbody>\n",
       "    <tr>\n",
       "      <th>112335</th>\n",
       "      <td>46144731</td>\n",
       "      <td>1</td>\n",
       "      <td>2360</td>\n",
       "      <td>108</td>\n",
       "    </tr>\n",
       "    <tr>\n",
       "      <th>112336</th>\n",
       "      <td>46188806</td>\n",
       "      <td>1</td>\n",
       "      <td>9160</td>\n",
       "      <td>151</td>\n",
       "    </tr>\n",
       "    <tr>\n",
       "      <th>112337</th>\n",
       "      <td>46380582</td>\n",
       "      <td>1</td>\n",
       "      <td>13520</td>\n",
       "      <td>22</td>\n",
       "    </tr>\n",
       "    <tr>\n",
       "      <th>112338</th>\n",
       "      <td>46518839</td>\n",
       "      <td>1</td>\n",
       "      <td>54360</td>\n",
       "      <td>49</td>\n",
       "    </tr>\n",
       "    <tr>\n",
       "      <th>112339</th>\n",
       "      <td>46538916</td>\n",
       "      <td>1</td>\n",
       "      <td>9160</td>\n",
       "      <td>11</td>\n",
       "    </tr>\n",
       "  </tbody>\n",
       "</table>\n",
       "</div>"
      ],
      "text/plain": [
       "        CustomerID  Frequency  Monetory  Recency\n",
       "112335    46144731          1      2360      108\n",
       "112336    46188806          1      9160      151\n",
       "112337    46380582          1     13520       22\n",
       "112338    46518839          1     54360       49\n",
       "112339    46538916          1      9160       11"
      ]
     },
     "execution_count": 51,
     "metadata": {},
     "output_type": "execute_result"
    }
   ],
   "source": [
    "Data.tail()"
   ]
  },
  {
   "cell_type": "code",
   "execution_count": 52,
   "id": "fc784b43",
   "metadata": {},
   "outputs": [],
   "source": [
    "#Scale Data with MinMax Scaler\n",
    "scaler = MinMaxScaler()\n",
    "Data[['Frequency', 'Monetory','Recency']] = scaler.fit_transform(Data[['Frequency', 'Monetory','Recency']])"
   ]
  },
  {
   "cell_type": "code",
   "execution_count": 53,
   "id": "63f49a13",
   "metadata": {},
   "outputs": [],
   "source": [
    "Data_model = Data[['Frequency', 'Monetory','Recency']]\n",
    "Sum_of_squared_distances = []\n",
    "K = range(1,15)\n",
    "for k in K:\n",
    "    km = KMeans(n_clusters=k)\n",
    "    km = km.fit(Data_model)\n",
    "    Sum_of_squared_distances.append(km.inertia_)"
   ]
  },
  {
   "cell_type": "code",
   "execution_count": 54,
   "id": "f10ccaed",
   "metadata": {
    "scrolled": true
   },
   "outputs": [
    {
     "data": {
      "image/png": "[encoded data removed]",
      "text/plain": [
       "<Figure size 432x288 with 1 Axes>"
      ]
     },
     "metadata": {
      "needs_background": "light"
     },
     "output_type": "display_data"
    }
   ],
   "source": [
    "plt.plot(K, Sum_of_squared_distances, 'bx-')\n",
    "plt.xlabel('k')\n",
    "plt.ylabel('Sum_of_squared_distances')\n",
    "plt.title('Elbow Method For Optimal k')\n",
    "plt.show()"
   ]
  },
  {
   "cell_type": "markdown",
   "id": "b888dc73",
   "metadata": {},
   "source": [
    "##### The best number of Cluster based on Elbow Method is 4 "
   ]
  },
  {
   "cell_type": "code",
   "execution_count": 55,
   "id": "83968d9a",
   "metadata": {},
   "outputs": [],
   "source": [
    "Data_model = Data[['Frequency', 'Monetory','Recency']]\n",
    "model = KMeans(n_clusters = 4)\n",
    "model = model.fit(Data_model)"
   ]
  },
  {
   "cell_type": "code",
   "execution_count": 56,
   "id": "bded98d0",
   "metadata": {
    "scrolled": true
   },
   "outputs": [
    {
     "data": {
      "image/png": "[encoded data removed]",
      "text/plain": [
       "<Figure size 576x432 with 1 Axes>"
      ]
     },
     "metadata": {
      "needs_background": "light"
     },
     "output_type": "display_data"
    }
   ],
   "source": [
    "# Two Dimention plot\n",
    "plt.figure(figsize =(8,6))\n",
    "plt.scatter(Data_model.iloc[:,1],Data_model.iloc[:,2], c=model.labels_.astype(np.float))\n",
    "plt.show()"
   ]
  },
  {
   "cell_type": "code",
   "execution_count": 57,
   "id": "cb471827",
   "metadata": {},
   "outputs": [
    {
     "data": {
      "text/plain": [
       "Text(0.5, 0.92, 'simple 3D scatter plot')"
      ]
     },
     "execution_count": 57,
     "metadata": {},
     "output_type": "execute_result"
    },
    {
     "data": {
      "image/png": "[encoded data removed]",
      "text/plain": [
       "<Figure size 432x576 with 1 Axes>"
      ]
     },
     "metadata": {
      "needs_background": "light"
     },
     "output_type": "display_data"
    }
   ],
   "source": [
    "# Tree Dimention plot \n",
    "fig = plt.figure(figsize = (6, 8))\n",
    "ax = plt.axes(projection =\"3d\")\n",
    " \n",
    "# Creating plot\n",
    "ax.scatter3D(xs=Data_model.iloc[:,0],\n",
    "             ys=Data_model.iloc[:,1],\n",
    "             zs=Data_model.iloc[:,2],\n",
    "             c=model.labels_.astype(np.float))\n",
    "plt.title(\"simple 3D scatter plot\")"
   ]
  },
  {
   "cell_type": "code",
   "execution_count": 58,
   "id": "3dd14330",
   "metadata": {},
   "outputs": [],
   "source": [
    "#Add Label to Data\n",
    "Data['Labels'] = model.labels_"
   ]
  },
  {
   "cell_type": "code",
   "execution_count": 59,
   "id": "65b25aa4",
   "metadata": {},
   "outputs": [],
   "source": [
    "# Inverse Data from Scaler\n",
    "Data[['Frequency']]=scaler.inverse_transform(Data[['Frequency', 'Monetory','Recency']])[:, [0]]\n",
    "Data[['Monetory']]=scaler.inverse_transform(Data[['Frequency', 'Monetory','Recency']])[:, [1]]\n",
    "Data[['Recency']]=scaler.inverse_transform(Data[['Frequency', 'Monetory','Recency']])[:, [2]]"
   ]
  },
  {
   "cell_type": "code",
   "execution_count": 60,
   "id": "9d63ced8",
   "metadata": {
    "scrolled": true
   },
   "outputs": [
    {
     "data": {
      "text/html": [
       "<div>\n",
       "<style scoped>\n",
       "    .dataframe tbody tr th:only-of-type {\n",
       "        vertical-align: middle;\n",
       "    }\n",
       "\n",
       "    .dataframe tbody tr th {\n",
       "        vertical-align: top;\n",
       "    }\n",
       "\n",
       "    .dataframe thead th {\n",
       "        text-align: right;\n",
       "    }\n",
       "</style>\n",
       "<table border=\"1\" class=\"dataframe\">\n",
       "  <thead>\n",
       "    <tr style=\"text-align: right;\">\n",
       "      <th></th>\n",
       "      <th>CustomerID</th>\n",
       "      <th>Frequency</th>\n",
       "      <th>Monetory</th>\n",
       "      <th>Recency</th>\n",
       "      <th>Labels</th>\n",
       "    </tr>\n",
       "  </thead>\n",
       "  <tbody>\n",
       "    <tr>\n",
       "      <th>88210</th>\n",
       "      <td>12901394</td>\n",
       "      <td>1.0</td>\n",
       "      <td>1076.0</td>\n",
       "      <td>61.0</td>\n",
       "      <td>2</td>\n",
       "    </tr>\n",
       "    <tr>\n",
       "      <th>90289</th>\n",
       "      <td>13266116</td>\n",
       "      <td>1.0</td>\n",
       "      <td>4360.0</td>\n",
       "      <td>85.0</td>\n",
       "      <td>2</td>\n",
       "    </tr>\n",
       "    <tr>\n",
       "      <th>21995</th>\n",
       "      <td>2921256</td>\n",
       "      <td>1.0</td>\n",
       "      <td>697.0</td>\n",
       "      <td>155.0</td>\n",
       "      <td>1</td>\n",
       "    </tr>\n",
       "    <tr>\n",
       "      <th>90602</th>\n",
       "      <td>13317070</td>\n",
       "      <td>1.0</td>\n",
       "      <td>5100.0</td>\n",
       "      <td>121.0</td>\n",
       "      <td>3</td>\n",
       "    </tr>\n",
       "  </tbody>\n",
       "</table>\n",
       "</div>"
      ],
      "text/plain": [
       "       CustomerID  Frequency  Monetory  Recency  Labels\n",
       "88210    12901394        1.0    1076.0     61.0       2\n",
       "90289    13266116        1.0    4360.0     85.0       2\n",
       "21995     2921256        1.0     697.0    155.0       1\n",
       "90602    13317070        1.0    5100.0    121.0       3"
      ]
     },
     "execution_count": 60,
     "metadata": {},
     "output_type": "execute_result"
    }
   ],
   "source": [
    "Data.sample(4)"
   ]
  },
  {
   "cell_type": "code",
   "execution_count": 61,
   "id": "cc45a4fd",
   "metadata": {
    "scrolled": true
   },
   "outputs": [
    {
     "data": {
      "text/html": [
       "<div>\n",
       "<style scoped>\n",
       "    .dataframe tbody tr th:only-of-type {\n",
       "        vertical-align: middle;\n",
       "    }\n",
       "\n",
       "    .dataframe tbody tr th {\n",
       "        vertical-align: top;\n",
       "    }\n",
       "\n",
       "    .dataframe thead th {\n",
       "        text-align: right;\n",
       "    }\n",
       "</style>\n",
       "<table border=\"1\" class=\"dataframe\">\n",
       "  <thead>\n",
       "    <tr style=\"text-align: right;\">\n",
       "      <th></th>\n",
       "      <th>Labels</th>\n",
       "      <th>CustomerID</th>\n",
       "      <th>Frequency</th>\n",
       "      <th>Monetory</th>\n",
       "      <th>Recency</th>\n",
       "    </tr>\n",
       "  </thead>\n",
       "  <tbody>\n",
       "    <tr>\n",
       "      <th>0</th>\n",
       "      <td>0</td>\n",
       "      <td>15560</td>\n",
       "      <td>1.844280</td>\n",
       "      <td>15041.443123</td>\n",
       "      <td>19.165296</td>\n",
       "    </tr>\n",
       "    <tr>\n",
       "      <th>2</th>\n",
       "      <td>2</td>\n",
       "      <td>32572</td>\n",
       "      <td>1.501075</td>\n",
       "      <td>9375.633919</td>\n",
       "      <td>66.993461</td>\n",
       "    </tr>\n",
       "    <tr>\n",
       "      <th>3</th>\n",
       "      <td>3</td>\n",
       "      <td>32029</td>\n",
       "      <td>1.203971</td>\n",
       "      <td>7000.179556</td>\n",
       "      <td>111.934434</td>\n",
       "    </tr>\n",
       "    <tr>\n",
       "      <th>1</th>\n",
       "      <td>1</td>\n",
       "      <td>32179</td>\n",
       "      <td>1.082165</td>\n",
       "      <td>6066.946953</td>\n",
       "      <td>158.595544</td>\n",
       "    </tr>\n",
       "  </tbody>\n",
       "</table>\n",
       "</div>"
      ],
      "text/plain": [
       "   Labels  CustomerID  Frequency      Monetory     Recency\n",
       "0       0       15560   1.844280  15041.443123   19.165296\n",
       "2       2       32572   1.501075   9375.633919   66.993461\n",
       "3       3       32029   1.203971   7000.179556  111.934434\n",
       "1       1       32179   1.082165   6066.946953  158.595544"
      ]
     },
     "execution_count": 61,
     "metadata": {},
     "output_type": "execute_result"
    }
   ],
   "source": [
    "Data.groupby('Labels').agg({'CustomerID':'count',\n",
    "                            'Frequency':'mean',\n",
    "                            'Monetory':'mean',\n",
    "                            'Recency':'mean'}).reset_index().sort_values(['Frequency', 'Monetory','Recency'],ascending=[False,False,True])"
   ]
  },
  {
   "cell_type": "markdown",
   "id": "d848df5d",
   "metadata": {},
   "source": [
    "## Question 4: CLV Calculation"
   ]
  },
  {
   "cell_type": "code",
   "execution_count": 62,
   "id": "222bc943",
   "metadata": {},
   "outputs": [],
   "source": [
    "ARPU_data= df.groupby('CustomerID').agg({'Revenue':'sum','jdate':'min','OrderID':'count'}).reset_index()"
   ]
  },
  {
   "cell_type": "code",
   "execution_count": 63,
   "id": "850324a7",
   "metadata": {
    "scrolled": true
   },
   "outputs": [],
   "source": [
    "ARPU_data['year'] = ARPU_data['jdate'].jalali.year\n",
    "ARPU_data['month'] = ARPU_data['jdate'].jalali.month\n",
    "ARPU_data=ARPU_data[ARPU_data['month']==1]"
   ]
  },
  {
   "cell_type": "code",
   "execution_count": 64,
   "id": "88ff0dc1",
   "metadata": {},
   "outputs": [],
   "source": [
    "#Calculate ARPU\n",
    "ARPU = ARPU_data['Revenue'].sum()/ARPU_data['CustomerID'].nunique()"
   ]
  },
  {
   "cell_type": "code",
   "execution_count": 65,
   "id": "bb3811c8",
   "metadata": {},
   "outputs": [],
   "source": [
    "ARPU_data['current']=df['jdate'].max()\n",
    "ARPU_data['delta_day'] = (ARPU_data['current']-ARPU_data['jdate']).dt.days"
   ]
  },
  {
   "cell_type": "code",
   "execution_count": 66,
   "id": "f65511b7",
   "metadata": {},
   "outputs": [],
   "source": [
    "# Calculate Churn Rate\n",
    "churn_customer = ARPU_data[ARPU_data['delta_day']>365]['CustomerID'].count()\n",
    "churn_rate = churn_customer/(ARPU_data['CustomerID'].count())"
   ]
  },
  {
   "cell_type": "code",
   "execution_count": 67,
   "id": "51b7b1b4",
   "metadata": {},
   "outputs": [
    {
     "data": {
      "text/plain": [
       "22.36"
      ]
     },
     "execution_count": 67,
     "metadata": {},
     "output_type": "execute_result"
    }
   ],
   "source": [
    "round(churn_rate*100,2)"
   ]
  },
  {
   "cell_type": "code",
   "execution_count": 68,
   "id": "cc5def52",
   "metadata": {},
   "outputs": [
    {
     "data": {
      "text/plain": [
       "40734.38212634823"
      ]
     },
     "execution_count": 68,
     "metadata": {},
     "output_type": "execute_result"
    }
   ],
   "source": [
    "# Calculate CLV\n",
    "CLV = ARPU/churn_rate\n",
    "CLV"
   ]
  }
 ],
 "metadata": {
  "kernelspec": {
   "display_name": "Python 3 (ipykernel)",
   "language": "python",
   "name": "python3"
  },
  "language_info": {
   "codemirror_mode": {
    "name": "ipython",
    "version": 3
   },
   "file_extension": ".py",
   "mimetype": "text/x-python",
   "name": "python",
   "nbconvert_exporter": "python",
   "pygments_lexer": "ipython3",
   "version": "3.9.7"
  }
 },
 "nbformat": 4,
 "nbformat_minor": 5
}
